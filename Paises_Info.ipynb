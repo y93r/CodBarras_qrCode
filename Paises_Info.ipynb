{
 "cells": [
  {
   "cell_type": "code",
   "execution_count": 1,
   "id": "4b25fa5a",
   "metadata": {},
   "outputs": [],
   "source": [
    "#!pip install countryinfo"
   ]
  },
  {
   "cell_type": "code",
   "execution_count": 22,
   "id": "dcb3969c",
   "metadata": {},
   "outputs": [
    {
     "name": "stdout",
     "output_type": "stream",
     "text": [
      "Digite em inglês o nome do país que deseja obter mais informações: norway\n",
      "\n",
      "\n",
      "Nome nativo: Norge\n",
      "País: Norway\n",
      "Capital: Oslo\n",
      "Gentílico: Norwegian\n",
      "Idiomas: ['no', 'nb', 'nn']\n",
      "Moedas: ['NOK']\n",
      "População: 5156450\n",
      "Fuso horário: ['UTC+01:00']\n",
      "Área por km²: 323802\n",
      "Domínio: ['.no']\n",
      "Código de área: ['47']\n",
      "Fronteira com: ['FIN', 'SWE', 'RUS']\n",
      "Continente: Europe\n",
      "Sub-região: Northern Europe\n",
      "Link no wikipedia para mais: http://en.wikipedia.org/wiki/norway\n"
     ]
    }
   ],
   "source": [
    "from countryinfo import CountryInfo\n",
    "\n",
    "try:\n",
    "    pais = CountryInfo(input(f'Digite em inglês o nome do país que deseja obter mais informações: '))\n",
    "    print('\\n')\n",
    "    print(f'Nome nativo: {pais.native_name().title()}')\n",
    "    print(f'País: {pais.name().title()}')\n",
    "    print(f'Capital: {pais.capital()}')\n",
    "    print(f'Gentílico: {pais.demonym()}')\n",
    "    print(f'Idiomas: {pais.languages()}')\n",
    "    print(f'Moedas: {pais.currencies()}')\n",
    "    print(f'População: {pais.population()}')\n",
    "    print(f'Fuso horário: {pais.timezones()}')\n",
    "    print(f'Área por km²: {pais.area()}')\n",
    "    print(f'Domínio: {pais.tld()}')\n",
    "    print(f'Código de área: {pais.calling_codes()}')\n",
    "    print(f'Fronteira com: {pais.borders()}')\n",
    "    print(f'Continente: {pais.region()}')\n",
    "    print(f'Sub-região: {pais.subregion()}')\n",
    "    print(f'Link no wikipedia para mais: {pais.wiki()}')\n",
    "except:\n",
    "    print('País não identificado!')"
   ]
  },
  {
   "cell_type": "code",
   "execution_count": null,
   "id": "4813a7ed",
   "metadata": {},
   "outputs": [],
   "source": []
  }
 ],
 "metadata": {
  "kernelspec": {
   "display_name": "Python 3 (ipykernel)",
   "language": "python",
   "name": "python3"
  },
  "language_info": {
   "codemirror_mode": {
    "name": "ipython",
    "version": 3
   },
   "file_extension": ".py",
   "mimetype": "text/x-python",
   "name": "python",
   "nbconvert_exporter": "python",
   "pygments_lexer": "ipython3",
   "version": "3.9.12"
  }
 },
 "nbformat": 4,
 "nbformat_minor": 5
}
