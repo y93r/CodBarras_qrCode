{
 "cells": [
  {
   "cell_type": "markdown",
   "id": "0bdc91ea",
   "metadata": {},
   "source": [
    "## Código de barras\n",
    "### EAN13"
   ]
  },
  {
   "cell_type": "code",
   "execution_count": null,
   "id": "0c779178",
   "metadata": {},
   "outputs": [],
   "source": [
    "#!pip install python-barcode"
   ]
  },
  {
   "cell_type": "code",
   "execution_count": 2,
   "id": "e1ab44d1",
   "metadata": {},
   "outputs": [],
   "source": [
    "from barcode import EAN13\n",
    "from barcode.writer import ImageWriter\n",
    "import cv2\n",
    "\n",
    "#13 numeros\n",
    "number = '5901234123457'\n",
    "\n",
    "with open(r'C:\\Users\\Usuário\\Documents\\DataScience\\Projetos\\Aleatorio\\Cod_barras\\ean2.png', 'wb') as f:\n",
    "    EAN13(number, writer=ImageWriter()).write(f)"
   ]
  },
  {
   "cell_type": "code",
   "execution_count": 3,
   "id": "6d485370",
   "metadata": {},
   "outputs": [],
   "source": [
    "#abrir a imagem salva em uma janela\n",
    "\n",
    "img = cv2.imread('ean2.png')\n",
    "window_name = 'img'\n",
    "cv2.imshow(window_name,img)\n",
    "cv2.waitKey(0)\n",
    "cv2.destroyAllWindows()"
   ]
  },
  {
   "cell_type": "markdown",
   "id": "bcaa46bd",
   "metadata": {},
   "source": [
    "## QR Code"
   ]
  },
  {
   "cell_type": "code",
   "execution_count": 29,
   "id": "d3a61abf",
   "metadata": {},
   "outputs": [],
   "source": [
    "#!pip install pyqrcode\n",
    "#!pip install pypng"
   ]
  },
  {
   "cell_type": "code",
   "execution_count": 12,
   "id": "760397b0",
   "metadata": {},
   "outputs": [],
   "source": [
    "import pyqrcode\n",
    "from pyqrcode import QRCode"
   ]
  },
  {
   "cell_type": "code",
   "execution_count": 28,
   "id": "8a5b39ae",
   "metadata": {},
   "outputs": [],
   "source": [
    "dest = 'https://univirtus.uninter.com/ava/web/'\n",
    "myQR = QRCode(dest, error='H', version=None, mode=None, encoding='iso-8859-1')\n",
    "myQR.show()\n",
    "myQR.png('qrcode3.png', scale=8)"
   ]
  }
 ],
 "metadata": {
  "kernelspec": {
   "display_name": "Python 3 (ipykernel)",
   "language": "python",
   "name": "python3"
  },
  "language_info": {
   "codemirror_mode": {
    "name": "ipython",
    "version": 3
   },
   "file_extension": ".py",
   "mimetype": "text/x-python",
   "name": "python",
   "nbconvert_exporter": "python",
   "pygments_lexer": "ipython3",
   "version": "3.9.12"
  }
 },
 "nbformat": 4,
 "nbformat_minor": 5
}
